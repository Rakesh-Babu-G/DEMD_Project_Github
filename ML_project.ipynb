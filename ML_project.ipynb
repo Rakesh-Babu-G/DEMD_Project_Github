{
 "cells": [
  {
   "cell_type": "code",
   "execution_count": 1,
   "id": "e1261882",
   "metadata": {},
   "outputs": [],
   "source": [
    "#import numpy as np\n",
    "import pandas as pd"
   ]
  },
  {
   "cell_type": "code",
   "execution_count": 2,
   "id": "4819da4c",
   "metadata": {},
   "outputs": [
    {
     "data": {
      "text/plain": [
       "(2966, 8)"
      ]
     },
     "execution_count": 2,
     "metadata": {},
     "output_type": "execute_result"
    }
   ],
   "source": [
    "# data reading\n",
    "df = pd.read_csv(\"collegePlace.csv\")\n",
    "df.shape"
   ]
  },
  {
   "cell_type": "code",
   "execution_count": 3,
   "id": "031f7640",
   "metadata": {},
   "outputs": [
    {
     "name": "stdout",
     "output_type": "stream",
     "text": [
      "<class 'pandas.core.frame.DataFrame'>\n",
      "RangeIndex: 2966 entries, 0 to 2965\n",
      "Data columns (total 8 columns):\n",
      " #   Column             Non-Null Count  Dtype \n",
      "---  ------             --------------  ----- \n",
      " 0   Age                2966 non-null   int64 \n",
      " 1   Gender             2966 non-null   object\n",
      " 2   Stream             2966 non-null   object\n",
      " 3   Internships        2966 non-null   int64 \n",
      " 4   CGPA               2966 non-null   int64 \n",
      " 5   Hostel             2966 non-null   int64 \n",
      " 6   HistoryOfBacklogs  2966 non-null   int64 \n",
      " 7   PlacedOrNot        2966 non-null   int64 \n",
      "dtypes: int64(6), object(2)\n",
      "memory usage: 185.5+ KB\n"
     ]
    }
   ],
   "source": [
    "# info\n",
    "df.info()"
   ]
  },
  {
   "cell_type": "code",
   "execution_count": 4,
   "id": "8cc2b23b",
   "metadata": {},
   "outputs": [
    {
     "data": {
      "text/html": [
       "<div>\n",
       "<style scoped>\n",
       "    .dataframe tbody tr th:only-of-type {\n",
       "        vertical-align: middle;\n",
       "    }\n",
       "\n",
       "    .dataframe tbody tr th {\n",
       "        vertical-align: top;\n",
       "    }\n",
       "\n",
       "    .dataframe thead th {\n",
       "        text-align: right;\n",
       "    }\n",
       "</style>\n",
       "<table border=\"1\" class=\"dataframe\">\n",
       "  <thead>\n",
       "    <tr style=\"text-align: right;\">\n",
       "      <th></th>\n",
       "      <th>Age</th>\n",
       "      <th>Gender</th>\n",
       "      <th>Stream</th>\n",
       "      <th>Internships</th>\n",
       "      <th>CGPA</th>\n",
       "      <th>Hostel</th>\n",
       "      <th>HistoryOfBacklogs</th>\n",
       "      <th>PlacedOrNot</th>\n",
       "    </tr>\n",
       "  </thead>\n",
       "  <tbody>\n",
       "    <tr>\n",
       "      <th>0</th>\n",
       "      <td>22</td>\n",
       "      <td>Male</td>\n",
       "      <td>Electronics And Communication</td>\n",
       "      <td>1</td>\n",
       "      <td>8</td>\n",
       "      <td>1</td>\n",
       "      <td>1</td>\n",
       "      <td>1</td>\n",
       "    </tr>\n",
       "    <tr>\n",
       "      <th>1</th>\n",
       "      <td>21</td>\n",
       "      <td>Female</td>\n",
       "      <td>Computer Science</td>\n",
       "      <td>0</td>\n",
       "      <td>7</td>\n",
       "      <td>1</td>\n",
       "      <td>1</td>\n",
       "      <td>1</td>\n",
       "    </tr>\n",
       "    <tr>\n",
       "      <th>2</th>\n",
       "      <td>22</td>\n",
       "      <td>Female</td>\n",
       "      <td>Information Technology</td>\n",
       "      <td>1</td>\n",
       "      <td>6</td>\n",
       "      <td>0</td>\n",
       "      <td>0</td>\n",
       "      <td>1</td>\n",
       "    </tr>\n",
       "    <tr>\n",
       "      <th>3</th>\n",
       "      <td>21</td>\n",
       "      <td>Male</td>\n",
       "      <td>Information Technology</td>\n",
       "      <td>0</td>\n",
       "      <td>8</td>\n",
       "      <td>0</td>\n",
       "      <td>1</td>\n",
       "      <td>1</td>\n",
       "    </tr>\n",
       "    <tr>\n",
       "      <th>4</th>\n",
       "      <td>22</td>\n",
       "      <td>Male</td>\n",
       "      <td>Mechanical</td>\n",
       "      <td>0</td>\n",
       "      <td>8</td>\n",
       "      <td>1</td>\n",
       "      <td>0</td>\n",
       "      <td>1</td>\n",
       "    </tr>\n",
       "  </tbody>\n",
       "</table>\n",
       "</div>"
      ],
      "text/plain": [
       "   Age  Gender                         Stream  Internships  CGPA  Hostel  \\\n",
       "0   22    Male  Electronics And Communication            1     8       1   \n",
       "1   21  Female               Computer Science            0     7       1   \n",
       "2   22  Female         Information Technology            1     6       0   \n",
       "3   21    Male         Information Technology            0     8       0   \n",
       "4   22    Male                     Mechanical            0     8       1   \n",
       "\n",
       "   HistoryOfBacklogs  PlacedOrNot  \n",
       "0                  1            1  \n",
       "1                  1            1  \n",
       "2                  0            1  \n",
       "3                  1            1  \n",
       "4                  0            1  "
      ]
     },
     "execution_count": 4,
     "metadata": {},
     "output_type": "execute_result"
    }
   ],
   "source": [
    "# head\n",
    "# target : PlacedOrNot\n",
    " \n",
    "df.head(5)"
   ]
  },
  {
   "cell_type": "markdown",
   "id": "a38874f9",
   "metadata": {},
   "source": [
    "## EDA"
   ]
  },
  {
   "cell_type": "code",
   "execution_count": 5,
   "id": "f46e511a",
   "metadata": {},
   "outputs": [
    {
     "data": {
      "text/plain": [
       "Age                  0\n",
       "Gender               0\n",
       "Stream               0\n",
       "Internships          0\n",
       "CGPA                 0\n",
       "Hostel               0\n",
       "HistoryOfBacklogs    0\n",
       "PlacedOrNot          0\n",
       "dtype: int64"
      ]
     },
     "execution_count": 5,
     "metadata": {},
     "output_type": "execute_result"
    }
   ],
   "source": [
    "# null values check\n",
    "df.isnull().sum()"
   ]
  },
  {
   "cell_type": "code",
   "execution_count": 6,
   "id": "ac437f83",
   "metadata": {},
   "outputs": [
    {
     "data": {
      "text/html": [
       "<div>\n",
       "<style scoped>\n",
       "    .dataframe tbody tr th:only-of-type {\n",
       "        vertical-align: middle;\n",
       "    }\n",
       "\n",
       "    .dataframe tbody tr th {\n",
       "        vertical-align: top;\n",
       "    }\n",
       "\n",
       "    .dataframe thead th {\n",
       "        text-align: right;\n",
       "    }\n",
       "</style>\n",
       "<table border=\"1\" class=\"dataframe\">\n",
       "  <thead>\n",
       "    <tr style=\"text-align: right;\">\n",
       "      <th></th>\n",
       "      <th>Age</th>\n",
       "      <th>Gender</th>\n",
       "      <th>Stream</th>\n",
       "      <th>Internships</th>\n",
       "      <th>CGPA</th>\n",
       "      <th>Hostel</th>\n",
       "      <th>HistoryOfBacklogs</th>\n",
       "      <th>PlacedOrNot</th>\n",
       "    </tr>\n",
       "  </thead>\n",
       "  <tbody>\n",
       "    <tr>\n",
       "      <th>count</th>\n",
       "      <td>2966.000000</td>\n",
       "      <td>2966</td>\n",
       "      <td>2966</td>\n",
       "      <td>2966.000000</td>\n",
       "      <td>2966.000000</td>\n",
       "      <td>2966.000000</td>\n",
       "      <td>2966.000000</td>\n",
       "      <td>2966.000000</td>\n",
       "    </tr>\n",
       "    <tr>\n",
       "      <th>unique</th>\n",
       "      <td>NaN</td>\n",
       "      <td>2</td>\n",
       "      <td>6</td>\n",
       "      <td>NaN</td>\n",
       "      <td>NaN</td>\n",
       "      <td>NaN</td>\n",
       "      <td>NaN</td>\n",
       "      <td>NaN</td>\n",
       "    </tr>\n",
       "    <tr>\n",
       "      <th>top</th>\n",
       "      <td>NaN</td>\n",
       "      <td>Male</td>\n",
       "      <td>Computer Science</td>\n",
       "      <td>NaN</td>\n",
       "      <td>NaN</td>\n",
       "      <td>NaN</td>\n",
       "      <td>NaN</td>\n",
       "      <td>NaN</td>\n",
       "    </tr>\n",
       "    <tr>\n",
       "      <th>freq</th>\n",
       "      <td>NaN</td>\n",
       "      <td>2475</td>\n",
       "      <td>776</td>\n",
       "      <td>NaN</td>\n",
       "      <td>NaN</td>\n",
       "      <td>NaN</td>\n",
       "      <td>NaN</td>\n",
       "      <td>NaN</td>\n",
       "    </tr>\n",
       "    <tr>\n",
       "      <th>mean</th>\n",
       "      <td>21.485840</td>\n",
       "      <td>NaN</td>\n",
       "      <td>NaN</td>\n",
       "      <td>0.703641</td>\n",
       "      <td>7.073837</td>\n",
       "      <td>0.269049</td>\n",
       "      <td>0.192178</td>\n",
       "      <td>0.552596</td>\n",
       "    </tr>\n",
       "    <tr>\n",
       "      <th>std</th>\n",
       "      <td>1.324933</td>\n",
       "      <td>NaN</td>\n",
       "      <td>NaN</td>\n",
       "      <td>0.740197</td>\n",
       "      <td>0.967748</td>\n",
       "      <td>0.443540</td>\n",
       "      <td>0.394079</td>\n",
       "      <td>0.497310</td>\n",
       "    </tr>\n",
       "    <tr>\n",
       "      <th>min</th>\n",
       "      <td>19.000000</td>\n",
       "      <td>NaN</td>\n",
       "      <td>NaN</td>\n",
       "      <td>0.000000</td>\n",
       "      <td>5.000000</td>\n",
       "      <td>0.000000</td>\n",
       "      <td>0.000000</td>\n",
       "      <td>0.000000</td>\n",
       "    </tr>\n",
       "    <tr>\n",
       "      <th>25%</th>\n",
       "      <td>21.000000</td>\n",
       "      <td>NaN</td>\n",
       "      <td>NaN</td>\n",
       "      <td>0.000000</td>\n",
       "      <td>6.000000</td>\n",
       "      <td>0.000000</td>\n",
       "      <td>0.000000</td>\n",
       "      <td>0.000000</td>\n",
       "    </tr>\n",
       "    <tr>\n",
       "      <th>50%</th>\n",
       "      <td>21.000000</td>\n",
       "      <td>NaN</td>\n",
       "      <td>NaN</td>\n",
       "      <td>1.000000</td>\n",
       "      <td>7.000000</td>\n",
       "      <td>0.000000</td>\n",
       "      <td>0.000000</td>\n",
       "      <td>1.000000</td>\n",
       "    </tr>\n",
       "    <tr>\n",
       "      <th>75%</th>\n",
       "      <td>22.000000</td>\n",
       "      <td>NaN</td>\n",
       "      <td>NaN</td>\n",
       "      <td>1.000000</td>\n",
       "      <td>8.000000</td>\n",
       "      <td>1.000000</td>\n",
       "      <td>0.000000</td>\n",
       "      <td>1.000000</td>\n",
       "    </tr>\n",
       "    <tr>\n",
       "      <th>max</th>\n",
       "      <td>30.000000</td>\n",
       "      <td>NaN</td>\n",
       "      <td>NaN</td>\n",
       "      <td>3.000000</td>\n",
       "      <td>9.000000</td>\n",
       "      <td>1.000000</td>\n",
       "      <td>1.000000</td>\n",
       "      <td>1.000000</td>\n",
       "    </tr>\n",
       "  </tbody>\n",
       "</table>\n",
       "</div>"
      ],
      "text/plain": [
       "                Age Gender            Stream  Internships         CGPA  \\\n",
       "count   2966.000000   2966              2966  2966.000000  2966.000000   \n",
       "unique          NaN      2                 6          NaN          NaN   \n",
       "top             NaN   Male  Computer Science          NaN          NaN   \n",
       "freq            NaN   2475               776          NaN          NaN   \n",
       "mean      21.485840    NaN               NaN     0.703641     7.073837   \n",
       "std        1.324933    NaN               NaN     0.740197     0.967748   \n",
       "min       19.000000    NaN               NaN     0.000000     5.000000   \n",
       "25%       21.000000    NaN               NaN     0.000000     6.000000   \n",
       "50%       21.000000    NaN               NaN     1.000000     7.000000   \n",
       "75%       22.000000    NaN               NaN     1.000000     8.000000   \n",
       "max       30.000000    NaN               NaN     3.000000     9.000000   \n",
       "\n",
       "             Hostel  HistoryOfBacklogs  PlacedOrNot  \n",
       "count   2966.000000        2966.000000  2966.000000  \n",
       "unique          NaN                NaN          NaN  \n",
       "top             NaN                NaN          NaN  \n",
       "freq            NaN                NaN          NaN  \n",
       "mean       0.269049           0.192178     0.552596  \n",
       "std        0.443540           0.394079     0.497310  \n",
       "min        0.000000           0.000000     0.000000  \n",
       "25%        0.000000           0.000000     0.000000  \n",
       "50%        0.000000           0.000000     1.000000  \n",
       "75%        1.000000           0.000000     1.000000  \n",
       "max        1.000000           1.000000     1.000000  "
      ]
     },
     "execution_count": 6,
     "metadata": {},
     "output_type": "execute_result"
    }
   ],
   "source": [
    "# describe\n",
    "df.describe(include = 'all')"
   ]
  },
  {
   "cell_type": "code",
   "execution_count": 7,
   "id": "7bac47c1",
   "metadata": {},
   "outputs": [
    {
     "name": "stderr",
     "output_type": "stream",
     "text": [
      "C:\\Users\\rajes\\Anaconda3\\lib\\site-packages\\seaborn\\_decorators.py:43: FutureWarning: Pass the following variable as a keyword arg: x. From version 0.12, the only valid positional argument will be `data`, and passing other arguments without an explicit keyword will result in an error or misinterpretation.\n",
      "  FutureWarning\n"
     ]
    },
    {
     "data": {
      "text/plain": [
       "<AxesSubplot:xlabel='Gender', ylabel='count'>"
      ]
     },
     "execution_count": 7,
     "metadata": {},
     "output_type": "execute_result"
    },
    {
     "data": {
      "image/png": "[encoded data removed]",
      "text/plain": [
       "<Figure size 432x288 with 1 Axes>"
      ]
     },
     "metadata": {
      "needs_background": "light"
     },
     "output_type": "display_data"
    }
   ],
   "source": [
    "# gender distribution\n",
    "\n",
    "import seaborn as sns\n",
    "\n",
    "sns.countplot(df['Gender'])"
   ]
  },
  {
   "cell_type": "code",
   "execution_count": 8,
   "id": "fa0fcc71",
   "metadata": {},
   "outputs": [
    {
     "data": {
      "text/plain": [
       "Male      0.834457\n",
       "Female    0.165543\n",
       "Name: Gender, dtype: float64"
      ]
     },
     "execution_count": 8,
     "metadata": {},
     "output_type": "execute_result"
    }
   ],
   "source": [
    "df['Gender'].value_counts(normalize=True)"
   ]
  },
  {
   "cell_type": "code",
   "execution_count": 9,
   "id": "71be939a",
   "metadata": {},
   "outputs": [
    {
     "data": {
      "text/plain": [
       "['Age',\n",
       " 'Gender',\n",
       " 'Stream',\n",
       " 'Internships',\n",
       " 'CGPA',\n",
       " 'Hostel',\n",
       " 'HistoryOfBacklogs',\n",
       " 'PlacedOrNot']"
      ]
     },
     "execution_count": 9,
     "metadata": {},
     "output_type": "execute_result"
    }
   ],
   "source": [
    "# list of columns\n",
    "\n",
    "list(df)"
   ]
  },
  {
   "cell_type": "code",
   "execution_count": 10,
   "id": "739acd0d",
   "metadata": {},
   "outputs": [
    {
     "name": "stdout",
     "output_type": "stream",
     "text": [
      "Gender\n"
     ]
    },
    {
     "data": {
      "image/png": "[encoded data removed]",
      "text/plain": [
       "<Figure size 432x288 with 1 Axes>"
      ]
     },
     "metadata": {
      "needs_background": "light"
     },
     "output_type": "display_data"
    },
    {
     "name": "stdout",
     "output_type": "stream",
     "text": [
      "Stream\n"
     ]
    },
    {
     "data": {
      "image/png": "[encoded data removed]",
      "text/plain": [
       "<Figure size 432x288 with 1 Axes>"
      ]
     },
     "metadata": {
      "needs_background": "light"
     },
     "output_type": "display_data"
    },
    {
     "name": "stdout",
     "output_type": "stream",
     "text": [
      "Internships\n"
     ]
    },
    {
     "data": {
      "image/png": "[encoded data removed]",
      "text/plain": [
       "<Figure size 432x288 with 1 Axes>"
      ]
     },
     "metadata": {
      "needs_background": "light"
     },
     "output_type": "display_data"
    }
   ],
   "source": [
    "# catg columns vs target plots\n",
    "\n",
    "import seaborn as sns\n",
    "import matplotlib.pyplot as plt\n",
    "\n",
    "def catg_eda(df, colname, target):\n",
    "    print(colname)\n",
    "    ax = sns.countplot(x=df[colname], hue = df[target], data=df)\n",
    "    ax.set_title(colname + \" vs \" + target)\n",
    "    for p in ax.patches:\n",
    "        ax.annotate(f'\\n{p.get_height()}', (p.get_x()+0.2, p.get_height()), ha='center', va='top', color='white', size=10)\n",
    "    plt.show()\n",
    "\n",
    "catg_cols = ['Gender', 'Stream','Internships']\n",
    "target = 'PlacedOrNot'\n",
    "for i, col_name in enumerate(catg_cols):\n",
    "    catg_eda(df,col_name, target)"
   ]
  },
  {
   "cell_type": "code",
   "execution_count": 11,
   "id": "bceeab04",
   "metadata": {},
   "outputs": [
    {
     "name": "stdout",
     "output_type": "stream",
     "text": [
      "Stream\n",
      "Electronics And Communication    0.591981\n",
      "Information Technology           0.591896\n",
      "Computer Science                 0.582474\n",
      "Name: 1, dtype: float64\n",
      "Stream\n",
      "Civil         0.460568\n",
      "Mechanical    0.471698\n",
      "Electrical    0.541916\n",
      "Name: 1, dtype: float64\n"
     ]
    }
   ],
   "source": [
    "#top 3 streams with higher %placed\n",
    "\n",
    "print(pd.crosstab(df.Stream, df.PlacedOrNot, margins = True, normalize = 'index')[1].sort_values(ascending=False)[0:3])\n",
    "print(pd.crosstab(df.Stream, df.PlacedOrNot, margins = True, normalize = 'index')[1].sort_values()[0:3])"
   ]
  },
  {
   "cell_type": "code",
   "execution_count": 12,
   "id": "9275cbf7",
   "metadata": {
    "scrolled": true
   },
   "outputs": [
    {
     "name": "stdout",
     "output_type": "stream",
     "text": [
      "Gender\n",
      "Female    0.560081\n",
      "Name: 1, dtype: float64\n"
     ]
    }
   ],
   "source": [
    "# gender vs target\n",
    "\n",
    "print(pd.crosstab(df.Gender, df.PlacedOrNot, margins = True, normalize = 'index')[1].sort_values(ascending=False)[0:1])"
   ]
  },
  {
   "cell_type": "code",
   "execution_count": 13,
   "id": "4ed3e215",
   "metadata": {
    "scrolled": true
   },
   "outputs": [
    {
     "name": "stdout",
     "output_type": "stream",
     "text": [
      "Internships\n",
      "2      0.805714\n",
      "3      0.803922\n",
      "All    0.552596\n",
      "1      0.536467\n",
      "0      0.491360\n",
      "Name: 1, dtype: float64\n"
     ]
    }
   ],
   "source": [
    "# Inernships vs target\n",
    "\n",
    "print(pd.crosstab(df.Internships, df.PlacedOrNot, margins = True,normalize = 'index')[1].sort_values(ascending=False))"
   ]
  },
  {
   "cell_type": "code",
   "execution_count": 14,
   "id": "a311ddf8",
   "metadata": {},
   "outputs": [
    {
     "data": {
      "image/png": "[encoded data removed]",
      "text/plain": [
       "<Figure size 432x288 with 1 Axes>"
      ]
     },
     "metadata": {
      "needs_background": "light"
     },
     "output_type": "display_data"
    },
    {
     "data": {
      "image/png": "[encoded data removed]",
      "text/plain": [
       "<Figure size 432x288 with 1 Axes>"
      ]
     },
     "metadata": {
      "needs_background": "light"
     },
     "output_type": "display_data"
    },
    {
     "data": {
      "image/png": "[encoded data removed]",
      "text/plain": [
       "<Figure size 432x288 with 1 Axes>"
      ]
     },
     "metadata": {
      "needs_background": "light"
     },
     "output_type": "display_data"
    },
    {
     "data": {
      "image/png": "[encoded data removed]",
      "text/plain": [
       "<Figure size 432x288 with 1 Axes>"
      ]
     },
     "metadata": {
      "needs_background": "light"
     },
     "output_type": "display_data"
    }
   ],
   "source": [
    "# numeric cols vs target plots\n",
    "\n",
    "def num_eda(df, colname, target):\n",
    "    df_temp = df.groupby(target)[colname].mean()\n",
    "    df_temp = pd.DataFrame(df_temp, columns= [colname])\n",
    "    df_temp.plot(kind= 'bar') \n",
    "\n",
    "num_cols = ['Age', 'CGPA', 'Hostel', 'HistoryOfBacklogs']\n",
    "target = 'PlacedOrNot'\n",
    "for i, col_name in enumerate(num_cols):\n",
    "    num_eda(df,col_name, target)"
   ]
  },
  {
   "cell_type": "markdown",
   "id": "643276fa",
   "metadata": {},
   "source": [
    "## Model building_ Features selection"
   ]
  },
  {
   "cell_type": "code",
   "execution_count": 15,
   "id": "84abdc91",
   "metadata": {},
   "outputs": [
    {
     "name": "stdout",
     "output_type": "stream",
     "text": [
      "============= column:  Age ==============\n",
      "\n",
      " REJECT NULL ie s1 != s2 ie mean(PlacedOrNot: yes ) != mean(PlacedOrNot: No)\n",
      "\n",
      "============= column:  CGPA ==============\n",
      "\n",
      " REJECT NULL ie s1 != s2 ie mean(PlacedOrNot: yes ) != mean(PlacedOrNot: No)\n",
      "\n",
      "============= column:  Hostel ==============\n",
      "\n",
      " REJECT NULL ie s1 != s2 ie mean(PlacedOrNot: yes ) != mean(PlacedOrNot: No)\n",
      "\n",
      "============= column:  HistoryOfBacklogs ==============\n",
      "\n",
      " FAIL TO REJECT NULL ie s1 = s2 ie means are statistically not significantly different)\n",
      "\n"
     ]
    }
   ],
   "source": [
    "# T- tests to check the significant continuous variables\n",
    "# Assumption: column varibales observations are normally distributed \n",
    "# If means of the classes are different, significant feature.\n",
    "\n",
    "from scipy import stats\n",
    "\n",
    "def t_test(df, cols):\n",
    "    dep_cols_cont = []\n",
    "    signi_level = 0.05\n",
    "    \n",
    "    for i in cols:\n",
    "               \n",
    "        s1 = df[df.PlacedOrNot == 0][i] \n",
    "        s2 = df[df.PlacedOrNot == 1][i]  \n",
    "        result = stats.ttest_ind(s1, s2, equal_var=False)\n",
    "        pvalue = result[1]/2\n",
    "        print(\"============= column: \", i ,\"==============\")\n",
    "        if pvalue < signi_level: \n",
    "            print('\\n REJECT NULL ie s1 != s2 ie mean(PlacedOrNot: yes ) != mean(PlacedOrNot: No)\\n')\n",
    "            dep_cols_cont.append(i)\n",
    "        else: \n",
    "            print(\"\\n FAIL TO REJECT NULL ie s1 = s2 ie means are statistically not significantly different)\\n\")\n",
    "    return dep_cols_cont\n",
    "\n",
    "#data_train = pd.concat([X_train_org,y_train],axis=1)\n",
    "\n",
    "signi_cols_cont = t_test(df,num_cols)"
   ]
  },
  {
   "cell_type": "code",
   "execution_count": 16,
   "id": "21d928c0",
   "metadata": {
    "scrolled": true
   },
   "outputs": [
    {
     "name": "stdout",
     "output_type": "stream",
     "text": [
      "col name: Gender\n",
      "\n",
      "\t chisquare statistic: 0.0995364040812469\n",
      "\n",
      "\t p value: 0.7523866780714197\n",
      "\n",
      "\tTest Result:\n",
      "\n",
      "\t FAIL TO REJECT NULL Hypothesis: Dependence insignificant ie Independent\n",
      "\n",
      "col name: Stream\n",
      "\n",
      "\t chisquare statistic: 32.015704313444225\n",
      "\n",
      "\t p value: 5.8988688092065085e-06\n",
      "\n",
      "\tTest Result:\n",
      "\n",
      "\t REJECT NULL Hypothesis: Dependence siginficant \n",
      "\n",
      "col name: Internships\n",
      "\n",
      "\t chisquare statistic: 125.21592051289477\n",
      "\n",
      "\t p value: 5.806386159701441e-27\n",
      "\n",
      "\tTest Result:\n",
      "\n",
      "\t REJECT NULL Hypothesis: Dependence siginficant \n",
      "\n"
     ]
    }
   ],
   "source": [
    "# chi-square test to check the significant dicrete/categorical variables\n",
    "# Assumption: column varibales observations are normally distributed \n",
    "# If p value significant, then feature is target is cosidered depenedent on feature.\n",
    "\n",
    "from scipy.stats import chi2_contingency \n",
    "\n",
    "def chi_testing(table, col):\n",
    "    dep_cols_disc = []\n",
    "    # chisquare test and captruing the test outputs\n",
    "    stat, p, dof, expected = chi2_contingency(table) \n",
    "\n",
    "    print('\\n\\t chisquare statistic:', stat)\n",
    "    print('\\n\\t p value:', p)\n",
    "    #print('\\n\\t degrees of freedom:', dof)\n",
    "    #print('\\n\\t expected frequencies:', expected)\n",
    "\n",
    "    # Assuming significance level (alpha) as 0.05.    \n",
    "    signi_level = 0.05\n",
    "\n",
    "    \n",
    "    print(\"\\n\\tTest Result:\")\n",
    "\n",
    "    if p < signi_level: \n",
    "        print('\\n\\t REJECT NULL Hypothesis: Dependence siginficant \\n')\n",
    "        dep_cols_disc.append(col)\n",
    "    else: \n",
    "        print('\\n\\t FAIL TO REJECT NULL Hypothesis: Dependence insignificant ie Independent\\n')\n",
    "    return dep_cols_disc\n",
    "\n",
    "signi_cols_disc = []\n",
    "\n",
    "for col in catg_cols:\n",
    "    table = pd.crosstab(df[col], df['PlacedOrNot'])\n",
    "    print(\"col name:\",col)\n",
    "    signi_col = chi_testing(table,col)\n",
    "    signi_cols_disc.extend(signi_col)"
   ]
  },
  {
   "cell_type": "code",
   "execution_count": 17,
   "id": "96d2dd87",
   "metadata": {},
   "outputs": [
    {
     "data": {
      "text/plain": [
       "['Stream', 'Internships', 'Age', 'CGPA', 'Hostel']"
      ]
     },
     "execution_count": 17,
     "metadata": {},
     "output_type": "execute_result"
    }
   ],
   "source": [
    "# All significant variables:\n",
    "\n",
    "signi_cols = signi_cols_disc + signi_cols_cont\n",
    "\n",
    "signi_cols"
   ]
  },
  {
   "cell_type": "code",
   "execution_count": 18,
   "id": "5fb751f9",
   "metadata": {},
   "outputs": [
    {
     "data": {
      "text/html": [
       "<div>\n",
       "<style scoped>\n",
       "    .dataframe tbody tr th:only-of-type {\n",
       "        vertical-align: middle;\n",
       "    }\n",
       "\n",
       "    .dataframe tbody tr th {\n",
       "        vertical-align: top;\n",
       "    }\n",
       "\n",
       "    .dataframe thead th {\n",
       "        text-align: right;\n",
       "    }\n",
       "</style>\n",
       "<table border=\"1\" class=\"dataframe\">\n",
       "  <thead>\n",
       "    <tr style=\"text-align: right;\">\n",
       "      <th></th>\n",
       "      <th>Age</th>\n",
       "      <th>Gender</th>\n",
       "      <th>Internships</th>\n",
       "      <th>CGPA</th>\n",
       "      <th>Hostel</th>\n",
       "      <th>HistoryOfBacklogs</th>\n",
       "      <th>PlacedOrNot</th>\n",
       "      <th>Stream_Computer Science</th>\n",
       "      <th>Stream_Electrical</th>\n",
       "      <th>Stream_Electronics And Communication</th>\n",
       "      <th>Stream_Information Technology</th>\n",
       "      <th>Stream_Mechanical</th>\n",
       "    </tr>\n",
       "  </thead>\n",
       "  <tbody>\n",
       "    <tr>\n",
       "      <th>0</th>\n",
       "      <td>22</td>\n",
       "      <td>Male</td>\n",
       "      <td>1</td>\n",
       "      <td>8</td>\n",
       "      <td>1</td>\n",
       "      <td>1</td>\n",
       "      <td>1</td>\n",
       "      <td>0</td>\n",
       "      <td>0</td>\n",
       "      <td>1</td>\n",
       "      <td>0</td>\n",
       "      <td>0</td>\n",
       "    </tr>\n",
       "    <tr>\n",
       "      <th>1</th>\n",
       "      <td>21</td>\n",
       "      <td>Female</td>\n",
       "      <td>0</td>\n",
       "      <td>7</td>\n",
       "      <td>1</td>\n",
       "      <td>1</td>\n",
       "      <td>1</td>\n",
       "      <td>1</td>\n",
       "      <td>0</td>\n",
       "      <td>0</td>\n",
       "      <td>0</td>\n",
       "      <td>0</td>\n",
       "    </tr>\n",
       "    <tr>\n",
       "      <th>2</th>\n",
       "      <td>22</td>\n",
       "      <td>Female</td>\n",
       "      <td>1</td>\n",
       "      <td>6</td>\n",
       "      <td>0</td>\n",
       "      <td>0</td>\n",
       "      <td>1</td>\n",
       "      <td>0</td>\n",
       "      <td>0</td>\n",
       "      <td>0</td>\n",
       "      <td>1</td>\n",
       "      <td>0</td>\n",
       "    </tr>\n",
       "    <tr>\n",
       "      <th>3</th>\n",
       "      <td>21</td>\n",
       "      <td>Male</td>\n",
       "      <td>0</td>\n",
       "      <td>8</td>\n",
       "      <td>0</td>\n",
       "      <td>1</td>\n",
       "      <td>1</td>\n",
       "      <td>0</td>\n",
       "      <td>0</td>\n",
       "      <td>0</td>\n",
       "      <td>1</td>\n",
       "      <td>0</td>\n",
       "    </tr>\n",
       "    <tr>\n",
       "      <th>4</th>\n",
       "      <td>22</td>\n",
       "      <td>Male</td>\n",
       "      <td>0</td>\n",
       "      <td>8</td>\n",
       "      <td>1</td>\n",
       "      <td>0</td>\n",
       "      <td>1</td>\n",
       "      <td>0</td>\n",
       "      <td>0</td>\n",
       "      <td>0</td>\n",
       "      <td>0</td>\n",
       "      <td>1</td>\n",
       "    </tr>\n",
       "  </tbody>\n",
       "</table>\n",
       "</div>"
      ],
      "text/plain": [
       "   Age  Gender  Internships  CGPA  Hostel  HistoryOfBacklogs  PlacedOrNot  \\\n",
       "0   22    Male            1     8       1                  1            1   \n",
       "1   21  Female            0     7       1                  1            1   \n",
       "2   22  Female            1     6       0                  0            1   \n",
       "3   21    Male            0     8       0                  1            1   \n",
       "4   22    Male            0     8       1                  0            1   \n",
       "\n",
       "   Stream_Computer Science  Stream_Electrical  \\\n",
       "0                        0                  0   \n",
       "1                        1                  0   \n",
       "2                        0                  0   \n",
       "3                        0                  0   \n",
       "4                        0                  0   \n",
       "\n",
       "   Stream_Electronics And Communication  Stream_Information Technology  \\\n",
       "0                                     1                              0   \n",
       "1                                     0                              0   \n",
       "2                                     0                              1   \n",
       "3                                     0                              1   \n",
       "4                                     0                              0   \n",
       "\n",
       "   Stream_Mechanical  \n",
       "0                  0  \n",
       "1                  0  \n",
       "2                  0  \n",
       "3                  0  \n",
       "4                  1  "
      ]
     },
     "execution_count": 18,
     "metadata": {},
     "output_type": "execute_result"
    }
   ],
   "source": [
    "# one hot encoding for catg variables\n",
    "\n",
    "data_one_hot = pd.get_dummies(df, columns=['Stream'], drop_first=True)\n",
    "data_one_hot.head(5)"
   ]
  },
  {
   "cell_type": "code",
   "execution_count": 19,
   "id": "c69ff391",
   "metadata": {},
   "outputs": [
    {
     "name": "stdout",
     "output_type": "stream",
     "text": [
      "(2966, 9) (2966, 1)\n",
      "X_train:  (2521, 9)\n",
      "y_train:  (2521, 1)\n",
      "X_test:  (445, 9)\n",
      "y_test:  (445, 1)\n"
     ]
    }
   ],
   "source": [
    "# X, y separation\n",
    "\n",
    "X = data_one_hot.drop(['Gender','HistoryOfBacklogs','PlacedOrNot'], axis=1)\n",
    "y = data_one_hot[['PlacedOrNot']]\n",
    "\n",
    "print(X.shape, y.shape)\n",
    "\n",
    "# train, test split\n",
    "\n",
    "from sklearn.model_selection import train_test_split\n",
    "\n",
    "X_train, X_test, y_train, y_test = train_test_split(X, y, train_size=0.85,test_size=0.15, random_state=100)\n",
    "print (\"X_train: \", X_train.shape)\n",
    "print (\"y_train: \", y_train.shape)\n",
    "print(\"X_test: \", X_test.shape)\n",
    "print (\"y_test: \", y_test.shape)"
   ]
  },
  {
   "cell_type": "markdown",
   "id": "f3b5f9b5",
   "metadata": {},
   "source": [
    "## Models"
   ]
  },
  {
   "cell_type": "code",
   "execution_count": 20,
   "id": "a8d8269d",
   "metadata": {},
   "outputs": [
    {
     "name": "stdout",
     "output_type": "stream",
     "text": [
      "Train score: 0.7687425624752082\n"
     ]
    },
    {
     "name": "stderr",
     "output_type": "stream",
     "text": [
      "C:\\Users\\rajes\\Anaconda3\\lib\\site-packages\\sklearn\\utils\\validation.py:63: DataConversionWarning: A column-vector y was passed when a 1d array was expected. Please change the shape of y to (n_samples, ), for example using ravel().\n",
      "  return f(*args, **kwargs)\n",
      "C:\\Users\\rajes\\Anaconda3\\lib\\site-packages\\sklearn\\linear_model\\_logistic.py:765: ConvergenceWarning: lbfgs failed to converge (status=1):\n",
      "STOP: TOTAL NO. of ITERATIONS REACHED LIMIT.\n",
      "\n",
      "Increase the number of iterations (max_iter) or scale the data as shown in:\n",
      "    https://scikit-learn.org/stable/modules/preprocessing.html\n",
      "Please also refer to the documentation for alternative solver options:\n",
      "    https://scikit-learn.org/stable/modules/linear_model.html#logistic-regression\n",
      "  extra_warning_msg=_LOGISTIC_SOLVER_CONVERGENCE_MSG)\n"
     ]
    }
   ],
   "source": [
    "from sklearn.linear_model import LogisticRegression\n",
    "from sklearn.metrics import accuracy_score\n",
    "\n",
    "lr = LogisticRegression()\n",
    "lr.fit(X_train,y_train)\n",
    "print('Train score:',lr.score(X_train,y_train))"
   ]
  },
  {
   "cell_type": "code",
   "execution_count": 21,
   "id": "e001f1e9",
   "metadata": {},
   "outputs": [],
   "source": [
    "import pickle\n",
    "\n",
    "with open(\"Pickle_file_Placement.pkl\", 'wb') as file:\n",
    "    pickle.dump(lr,file)\n"
   ]
  },
  {
   "cell_type": "code",
   "execution_count": 22,
   "id": "749917bb",
   "metadata": {},
   "outputs": [],
   "source": [
    "with open(\"Pickle_file_Placement.pkl\", 'rb') as file:\n",
    "    pickled_LogRegmodel= pickle.load(file)"
   ]
  },
  {
   "cell_type": "code",
   "execution_count": 23,
   "id": "f1179aa3",
   "metadata": {},
   "outputs": [],
   "source": [
    "Ypredict = pickled_LogRegmodel.predict(X_test)"
   ]
  },
  {
   "cell_type": "code",
   "execution_count": 24,
   "id": "0e867e25",
   "metadata": {},
   "outputs": [
    {
     "data": {
      "text/plain": [
       "array([1, 0, 1, 1, 0, 1, 0, 0, 1, 1, 1, 0, 0, 1, 0, 0, 1, 1, 1, 1, 0, 0,\n",
       "       0, 1, 1, 1, 1, 1, 0, 1, 1, 1, 0, 0, 1, 1, 0, 0, 1, 1, 1, 0, 1, 1,\n",
       "       0, 0, 1, 1, 0, 0, 1, 0, 0, 0, 1, 1, 0, 1, 0, 0, 0, 0, 1, 1, 1, 1,\n",
       "       1, 1, 0, 1, 1, 0, 0, 0, 1, 1, 0, 0, 1, 0, 1, 1, 1, 1, 1, 1, 1, 1,\n",
       "       0, 0, 0, 1, 1, 0, 1, 1, 0, 0, 1, 0, 0, 0, 1, 1, 1, 1, 1, 1, 0, 0,\n",
       "       1, 1, 0, 1, 0, 1, 1, 0, 0, 1, 0, 1, 1, 1, 1, 1, 0, 1, 1, 0, 1, 0,\n",
       "       1, 0, 0, 0, 1, 0, 1, 1, 1, 1, 1, 0, 1, 0, 1, 1, 1, 1, 1, 0, 0, 1,\n",
       "       1, 1, 0, 1, 0, 0, 0, 0, 0, 1, 1, 0, 1, 1, 0, 0, 1, 1, 1, 1, 0, 0,\n",
       "       0, 0, 1, 0, 0, 0, 1, 1, 0, 1, 0, 0, 1, 0, 1, 0, 1, 1, 0, 1, 0, 1,\n",
       "       0, 0, 1, 0, 1, 1, 0, 1, 0, 0, 1, 0, 1, 0, 1, 1, 0, 1, 1, 1, 0, 1,\n",
       "       0, 0, 1, 1, 1, 1, 1, 1, 1, 1, 0, 0, 1, 0, 1, 1, 1, 0, 1, 1, 0, 1,\n",
       "       1, 1, 0, 1, 1, 1, 0, 0, 0, 1, 1, 1, 1, 1, 1, 0, 1, 1, 0, 0, 0, 0,\n",
       "       0, 0, 0, 1, 0, 0, 1, 0, 1, 1, 1, 1, 1, 1, 1, 0, 1, 0, 1, 1, 0, 1,\n",
       "       1, 0, 0, 1, 1, 1, 0, 1, 1, 1, 1, 0, 1, 1, 0, 1, 1, 1, 0, 1, 0, 1,\n",
       "       1, 1, 1, 1, 1, 1, 0, 0, 1, 1, 0, 1, 0, 1, 0, 0, 0, 1, 0, 0, 1, 1,\n",
       "       1, 0, 1, 0, 1, 1, 0, 0, 0, 1, 0, 0, 1, 0, 0, 1, 0, 0, 1, 1, 0, 0,\n",
       "       1, 0, 0, 0, 1, 1, 0, 0, 0, 0, 1, 1, 1, 1, 0, 1, 1, 0, 1, 0, 0, 1,\n",
       "       1, 0, 0, 0, 1, 1, 1, 1, 0, 1, 0, 1, 1, 0, 0, 1, 1, 0, 1, 1, 1, 1,\n",
       "       0, 1, 0, 0, 1, 0, 0, 1, 1, 1, 1, 1, 0, 1, 1, 0, 0, 1, 0, 0, 0, 0,\n",
       "       0, 1, 0, 1, 1, 1, 1, 1, 0, 1, 1, 1, 0, 1, 1, 0, 1, 0, 0, 0, 1, 1,\n",
       "       1, 1, 0, 0, 1], dtype=int64)"
      ]
     },
     "execution_count": 24,
     "metadata": {},
     "output_type": "execute_result"
    }
   ],
   "source": [
    "Ypredict"
   ]
  },
  {
   "cell_type": "code",
   "execution_count": 25,
   "id": "66ce5175",
   "metadata": {},
   "outputs": [
    {
     "name": "stdout",
     "output_type": "stream",
     "text": [
      "Test score: 0.7325842696629213\n"
     ]
    }
   ],
   "source": [
    "print('Test score:',lr.score(X_test,y_test))"
   ]
  },
  {
   "cell_type": "code",
   "execution_count": 27,
   "id": "997276fc",
   "metadata": {},
   "outputs": [
    {
     "name": "stdout",
     "output_type": "stream",
     "text": [
      "Train score: 0.9071796905989686\n"
     ]
    }
   ],
   "source": [
    "from sklearn.tree import DecisionTreeClassifier\n",
    "\n",
    "dt = DecisionTreeClassifier()\n",
    "dt.fit(X_train,y_train)\n",
    "print('Train score:',dt.score(X_train,y_train))"
   ]
  },
  {
   "cell_type": "code",
   "execution_count": 28,
   "id": "02c42313",
   "metadata": {},
   "outputs": [],
   "source": [
    "import pickle\n",
    "\n",
    "with open(\"Pickle_file_Placement_dt.pkl\", 'wb') as file:\n",
    "    pickle.dump(dt,file)\n",
    "    \n",
    "with open(\"Pickle_file_Placement_dt.pkl\", 'rb') as file:\n",
    "    pickled_dt_model= pickle.load(file)"
   ]
  },
  {
   "cell_type": "code",
   "execution_count": 29,
   "id": "abb30125",
   "metadata": {},
   "outputs": [
    {
     "name": "stdout",
     "output_type": "stream",
     "text": [
      "Test score: 0.8674157303370786\n"
     ]
    }
   ],
   "source": [
    "Ypredict = pickled_dt_model.predict(X_test)\n",
    "print('Test score:',dt.score(X_test,y_test))"
   ]
  },
  {
   "cell_type": "code",
   "execution_count": null,
   "id": "677f6e99",
   "metadata": {},
   "outputs": [],
   "source": []
  },
  {
   "cell_type": "code",
   "execution_count": null,
   "id": "ecd1d11d",
   "metadata": {},
   "outputs": [],
   "source": []
  }
 ],
 "metadata": {
  "kernelspec": {
   "display_name": "Python 3",
   "language": "python",
   "name": "python3"
  },
  "language_info": {
   "codemirror_mode": {
    "name": "ipython",
    "version": 3
   },
   "file_extension": ".py",
   "mimetype": "text/x-python",
   "name": "python",
   "nbconvert_exporter": "python",
   "pygments_lexer": "ipython3",
   "version": "3.6.13"
  }
 },
 "nbformat": 4,
 "nbformat_minor": 5
}
